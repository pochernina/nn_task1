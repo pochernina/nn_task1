{
  "cells": [
    {
      "cell_type": "markdown",
      "metadata": {
        "id": "atqZGIIyNSBb"
      },
      "source": [
        "#**Практическое задание №1**"
      ]
    },
    {
      "cell_type": "markdown",
      "metadata": {
        "id": "ga5g3lUhNNBy"
      },
      "source": [
        "Установка необходимых пакетов:"
      ]
    },
    {
      "cell_type": "code",
      "execution_count": 1,
      "metadata": {
        "colab": {
          "base_uri": "https://localhost:8080/"
        },
        "id": "TGBk36LpukIu",
        "outputId": "a82da102-8bec-4029-831f-6cd756041e2c",
        "vscode": {
          "languageId": "python"
        }
      },
      "outputs": [
        {
          "output_type": "stream",
          "name": "stdout",
          "text": [
            "Requirement already satisfied: gdown in /usr/local/lib/python3.7/dist-packages (4.4.0)\n",
            "Requirement already satisfied: requests[socks] in /usr/local/lib/python3.7/dist-packages (from gdown) (2.23.0)\n",
            "Requirement already satisfied: six in /usr/local/lib/python3.7/dist-packages (from gdown) (1.15.0)\n",
            "Requirement already satisfied: filelock in /usr/local/lib/python3.7/dist-packages (from gdown) (3.6.0)\n",
            "Requirement already satisfied: tqdm in /usr/local/lib/python3.7/dist-packages (from gdown) (4.64.0)\n",
            "Requirement already satisfied: beautifulsoup4 in /usr/local/lib/python3.7/dist-packages (from gdown) (4.6.3)\n",
            "Requirement already satisfied: chardet<4,>=3.0.2 in /usr/local/lib/python3.7/dist-packages (from requests[socks]->gdown) (3.0.4)\n",
            "Requirement already satisfied: certifi>=2017.4.17 in /usr/local/lib/python3.7/dist-packages (from requests[socks]->gdown) (2021.10.8)\n",
            "Requirement already satisfied: urllib3!=1.25.0,!=1.25.1,<1.26,>=1.21.1 in /usr/local/lib/python3.7/dist-packages (from requests[socks]->gdown) (1.24.3)\n",
            "Requirement already satisfied: idna<3,>=2.5 in /usr/local/lib/python3.7/dist-packages (from requests[socks]->gdown) (2.10)\n",
            "Requirement already satisfied: PySocks!=1.5.7,>=1.5.6 in /usr/local/lib/python3.7/dist-packages (from requests[socks]->gdown) (1.7.1)\n"
          ]
        }
      ],
      "source": [
        "!pip install -q libtiff\n",
        "!pip install -q tqdm\n",
        "!pip install --upgrade --no-cache-dir gdown"
      ]
    },
    {
      "cell_type": "markdown",
      "metadata": {
        "id": "2vQDLyHEO1Ux"
      },
      "source": [
        "Монтирование Вашего Google Drive к текущему окружению:"
      ]
    },
    {
      "cell_type": "code",
      "execution_count": 2,
      "metadata": {
        "colab": {
          "base_uri": "https://localhost:8080/"
        },
        "id": "5G5KkA1Nu5M9",
        "outputId": "c373b521-cd54-4c08-b772-8dd4e2f06b6d",
        "vscode": {
          "languageId": "python"
        }
      },
      "outputs": [
        {
          "output_type": "stream",
          "name": "stdout",
          "text": [
            "Mounted at /content/drive\n"
          ]
        }
      ],
      "source": [
        "from google.colab import drive\n",
        "drive.mount('/content/drive', force_remount=True)"
      ]
    },
    {
      "cell_type": "markdown",
      "metadata": {
        "id": "E6-mtI6W1y1b"
      },
      "source": [
        "В переменную PROJECT_DIR необходимо прописать путь к директории на Google Drive. Это пригодится при сохранении модели."
      ]
    },
    {
      "cell_type": "code",
      "execution_count": 3,
      "metadata": {
        "id": "IdvM-BUTvfSV",
        "vscode": {
          "languageId": "python"
        }
      },
      "outputs": [],
      "source": [
        "PROJECT_DIR = 'dev/neural_networks_task1/'"
      ]
    },
    {
      "cell_type": "markdown",
      "metadata": {
        "id": "0Num5lHV6912"
      },
      "source": [
        "Константы, которые пригодятся в коде далее:"
      ]
    },
    {
      "cell_type": "code",
      "execution_count": 4,
      "metadata": {
        "id": "ab2yCwDm7Fqb",
        "vscode": {
          "languageId": "python"
        }
      },
      "outputs": [],
      "source": [
        "EVALUATE_ONLY = False\n",
        "TEST_ON_LARGE_DATASET = True\n",
        "TISSUE_CLASSES = ('ADI', 'BACK', 'DEB', 'LYM', 'MUC', 'MUS', 'NORM', 'STR', 'TUM')"
      ]
    },
    {
      "cell_type": "markdown",
      "metadata": {
        "id": "4jfjZya7Cu5x"
      },
      "source": [
        "Ссылки (gdrive идентификаторы) на предоставляемые наборы данных:"
      ]
    },
    {
      "cell_type": "code",
      "execution_count": 5,
      "metadata": {
        "id": "bySwf3rZSGFC",
        "vscode": {
          "languageId": "python"
        }
      },
      "outputs": [],
      "source": [
        "DATASETS_LINKS = {\n",
        "    'train': '1XtQzVQ5XbrfxpLHJuL0XBGJ5U7CS-cLi',\n",
        "    'train_small': '1qd45xXfDwdZjktLFwQb-et-mAaFeCzOR',\n",
        "    'train_tiny': '1I-2ZOuXLd4QwhZQQltp817Kn3J0Xgbui',\n",
        "    'test': '1RfPou3pFKpuHDJZ-D9XDFzgvwpUBFlDr',\n",
        "    'test_small': '1wbRsog0n7uGlHIPGLhyN-PMeT2kdQ2lI',\n",
        "    'test_tiny': '1viiB0s041CNsAK4itvX8PnYthJ-MDnQc'\n",
        "}"
      ]
    },
    {
      "cell_type": "markdown",
      "metadata": {
        "id": "fgY-ux5qOI0k"
      },
      "source": [
        "Импорт необходимых зависимостей:"
      ]
    },
    {
      "cell_type": "code",
      "execution_count": 6,
      "metadata": {
        "id": "kLHQhqiSIyvK",
        "vscode": {
          "languageId": "python"
        }
      },
      "outputs": [],
      "source": [
        "from pathlib import Path\n",
        "from libtiff import TIFF\n",
        "import numpy as np\n",
        "from typing import List\n",
        "from tqdm.notebook import tqdm\n",
        "from time import sleep\n",
        "from PIL import Image\n",
        "import IPython.display\n",
        "from sklearn.metrics import balanced_accuracy_score\n",
        "import gdown"
      ]
    },
    {
      "cell_type": "markdown",
      "metadata": {
        "id": "zKLI3lUyMYO9"
      },
      "source": [
        "---\n",
        "### Класс Dataset\n",
        "\n",
        "Предназначен для работы с наборами данных, хранящихся на Google Drive, обеспечивает чтение изображений и соответствующих меток, а также формирование пакетов (батчей)."
      ]
    },
    {
      "cell_type": "code",
      "execution_count": 7,
      "metadata": {
        "id": "8N169efsw1ej",
        "vscode": {
          "languageId": "python"
        }
      },
      "outputs": [],
      "source": [
        "class Dataset:\n",
        "\n",
        "    def __init__(self, name):\n",
        "        self.name = name\n",
        "        self.is_loaded = False\n",
        "        if not Path(f'{name}.npz').exists():\n",
        "            url = f'https://drive.google.com/uc?id={DATASETS_LINKS[name]}'\n",
        "            output = f'{name}.npz'\n",
        "            gdown.download(url, output, quiet=False)\n",
        "        print(f'Loading dataset {self.name} from npz.')\n",
        "        np_obj = np.load(f'{name}.npz')\n",
        "        self.images = np_obj['data']\n",
        "        self.labels = np_obj['labels']\n",
        "        self.n_files = self.images.shape[0]\n",
        "        self.is_loaded = True\n",
        "        print(f'Done. Dataset {name} consists of {self.n_files} images.')\n",
        "\n",
        "    def image(self, i):\n",
        "        # read i-th image in dataset and return it as numpy array\n",
        "        if self.is_loaded:\n",
        "            return self.images[i, :, :, :]\n",
        "\n",
        "    def images_seq(self, n=None):\n",
        "        # sequential access to images inside dataset (is needed for testing)\n",
        "        for i in range(self.n_files if not n else n):\n",
        "            yield self.image(i)\n",
        "\n",
        "    def random_image_with_label(self):\n",
        "        # get random image with label from dataset\n",
        "        i = np.random.randint(self.n_files)\n",
        "        return self.image(i), self.labels[i]\n",
        "  \n",
        "    def random_batch_with_labels(self, n):\n",
        "        # create random batch of images with labels (is needed for training)\n",
        "        indices = np.random.choice(self.n_files, n)\n",
        "        imgs = []\n",
        "        for i in indices:\n",
        "            img = self.image(i)\n",
        "            imgs.append(self.image(i))\n",
        "        logits = np.array([self.labels[i] for i in indices])\n",
        "        return np.stack(imgs), logits\n",
        "\n",
        "    def image_with_label(self, i: int):\n",
        "        # return i-th image with label from dataset\n",
        "        return self.image(i), self.labels[i]"
      ]
    },
    {
      "cell_type": "markdown",
      "metadata": {
        "id": "qaBXXCWeVLYb"
      },
      "source": [
        "---\n",
        "### Класс Metrics\n",
        "\n",
        "Реализует метрики точности, используемые для оценивания модели:\n",
        "1. точность,\n",
        "2. сбалансированную точность."
      ]
    },
    {
      "cell_type": "code",
      "execution_count": 8,
      "metadata": {
        "id": "5unQ7azTinCZ",
        "vscode": {
          "languageId": "python"
        }
      },
      "outputs": [],
      "source": [
        "class Metrics:\n",
        "\n",
        "    @staticmethod\n",
        "    def accuracy(gt: List[int], pred: List[int]):\n",
        "        assert len(gt) == len(pred), 'gt and prediction should be of equal length'\n",
        "        return sum(int(i[0] == i[1]) for i in zip(gt, pred)) / len(gt)\n",
        "\n",
        "    @staticmethod\n",
        "    def accuracy_balanced(gt: List[int], pred: List[int]):\n",
        "        return balanced_accuracy_score(gt, pred)\n",
        "\n",
        "    @staticmethod\n",
        "    def print_all(gt: List[int], pred: List[int], info: str):\n",
        "        print(f'metrics for {info}:')\n",
        "        print('\\t accuracy {:.4f}:'.format(Metrics.accuracy(gt, pred)))\n",
        "        print('\\t balanced accuracy {:.4f}:'.format(Metrics.accuracy_balanced(gt, pred)))"
      ]
    },
    {
      "cell_type": "markdown",
      "metadata": {
        "id": "N1AHzTJVGU5k"
      },
      "source": [
        "---\n",
        "### Класс Model\n",
        "\n",
        "Класс, хранящий в себе всю информацию о модели.\n",
        "\n",
        "Вам необходимо реализовать методы save, load для сохранения и заргрузки модели. Особенно актуально это будет во время тестирования на дополнительных наборах данных.\n",
        "\n",
        "> *Пожалуйста, убедитесь, что сохранение и загрузка модели работает корректно. Для этого обучите модель, протестируйте, сохраните ее в файл, перезапустите среду выполнения, загрузите обученную модель из файла, вновь протестируйте ее на тестовой выборке и убедитесь в том, что получаемые метрики совпадают с полученными для тестовой выборки ранее.*\n",
        "\n",
        "\n",
        "Также, Вы можете реализовать дополнительные функции, такие как:\n",
        "1. валидацию модели на части обучающей выборки;\n",
        "2. использование кроссвалидации;\n",
        "3. автоматическое сохранение модели при обучении;\n",
        "4. загрузку модели с какой-то конкретной итерации обучения (если используется итеративное обучение);\n",
        "5. вывод различных показателей в процессе обучения (например, значение функции потерь на каждой эпохе);\n",
        "6. построение графиков, визуализирующих процесс обучения (например, график зависимости функции потерь от номера эпохи обучения);\n",
        "7. автоматическое тестирование на тестовом наборе/наборах данных после каждой эпохи обучения (при использовании итеративного обучения);\n",
        "8. автоматический выбор гиперпараметров модели во время обучения;\n",
        "9. сохранение и визуализацию результатов тестирования;\n",
        "10. Использование аугментации и других способов синтетического расширения набора данных (дополнительным плюсом будет обоснование необходимости и обоснование выбора конкретных типов аугментации)\n",
        "11. и т.д.\n",
        "\n",
        "Полный список опций и дополнений приведен в презентации с описанием задания.\n",
        "\n",
        "При реализации дополнительных функций допускается добавление параметров в существующие методы и добавление новых методов в класс модели."
      ]
    },
    {
      "cell_type": "code",
      "execution_count": 9,
      "metadata": {
        "id": "HGTXMbp_g0s8",
        "vscode": {
          "languageId": "python"
        }
      },
      "outputs": [],
      "source": [
        "import tensorflow as tf\n",
        "from tensorflow import keras\n",
        "import matplotlib.pyplot as plt\n",
        "from sklearn.model_selection import train_test_split"
      ]
    },
    {
      "cell_type": "code",
      "execution_count": 29,
      "metadata": {
        "id": "0pkMiB6mJ7JQ",
        "vscode": {
          "languageId": "python"
        }
      },
      "outputs": [],
      "source": [
        "class Model:\n",
        "\n",
        "    def __init__(self):\n",
        "       self.model = keras.models.Sequential([\n",
        "            keras.layers.Conv2D(16, (3, 3), activation='relu', padding='same', input_shape=(224, 224, 3)),\n",
        "            keras.layers.Conv2D(16, (3, 3), activation='relu', padding='same'),\n",
        "            keras.layers.MaxPooling2D((4, 4)),\n",
        "            keras.layers.Dropout(0.2),\n",
        "\n",
        "            keras.layers.Conv2D(32, (3, 3), activation='relu', padding='same'),\n",
        "            keras.layers.Conv2D(32, (3, 3), activation='relu', padding='same'),\n",
        "            keras.layers.MaxPooling2D((2, 2)),\n",
        "            keras.layers.Dropout(0.2),\n",
        "\n",
        "            keras.layers.Conv2D(64, (3, 3), activation='relu', padding='same'),\n",
        "            keras.layers.Conv2D(64, (3, 3), activation='relu', padding='same'),\n",
        "            keras.layers.MaxPooling2D((2, 2)),\n",
        "            keras.layers.Dropout(0.2),\n",
        "\n",
        "            keras.layers.Conv2D(128, (3, 3), activation='relu', padding='same'),\n",
        "            keras.layers.Conv2D(128, (3, 3), activation='relu', padding='same'),\n",
        "            keras.layers.MaxPooling2D((2, 2)),\n",
        "            keras.layers.Dropout(0.2),\n",
        "\n",
        "            keras.layers.Flatten(),\n",
        "            keras.layers.Dropout(0.5),\n",
        "            keras.layers.Dense(256, activation='relu'),\n",
        "            keras.layers.Dropout(0.5),\n",
        "            keras.layers.Dense(128, activation='relu'),\n",
        "            keras.layers.Dense(9, activation='softmax'),\n",
        "        ])\n",
        "\n",
        "    def save(self, name: str):\n",
        "        p = Path(\"/content/drive/MyDrive/\" + PROJECT_DIR + name) \n",
        "        self.model.save(p)\n",
        "\n",
        "    def load(self, name: str):\n",
        "        name_to_id_dict = {\n",
        "            'best': '106c19Pgnoe_JHRu6CeKX4OYXyubX_0kn'\n",
        "        }\n",
        "        url = f'https://drive.google.com/drive/folders/{name_to_id_dict[name]}'\n",
        "        gdown.download_folder(url, quiet=True, output=name, use_cookies=False)\n",
        "        self.model = keras.models.load_model(name)\n",
        "\n",
        "    def train(self, dataset: Dataset):\n",
        "        self.model.compile(optimizer=keras.optimizers.Adam(learning_rate=3e-4),\n",
        "                           loss=keras.losses.SparseCategoricalCrossentropy(),\n",
        "                           metrics=keras.metrics.SparseCategoricalAccuracy())\n",
        "        \n",
        "        # LBL1\n",
        "        # Валидация модели на части обучающей выборки\n",
        "        x_train, x_val, y_train, y_val = train_test_split(dataset.images, dataset.labels, test_size=0.2, random_state=1)\n",
        "        \n",
        "        # LBL2\n",
        "        # Остановка обучения при потере точности на валидационной выборке\n",
        "        early_stopping_callback = keras.callbacks.EarlyStopping(monitor='val_sparse_categorical_accuracy',\n",
        "                                                                patience=15,\n",
        "                                                                restore_best_weights=True) \n",
        "        \n",
        "        print(f'training started')\n",
        "        self.history = self.model.fit(x_train, y_train,\n",
        "                                     batch_size=64,\n",
        "                                     epochs=70,\n",
        "                                     validation_data=(x_val, y_val),\n",
        "                                     shuffle=True,\n",
        "                                     callbacks=[early_stopping_callback])\n",
        "                                      \n",
        "        print(f'training done')\n",
        "      \n",
        "    def summary(self):\n",
        "        return self.model.summary()\n",
        "      \n",
        "    # LBL3\n",
        "    # Вывод функции потерь и точности в процессе обучения\n",
        "    def loss_and_accuracy_plots(self):\n",
        "        plt.figure(figsize=(15,5))\n",
        "        plt.subplot(1,2,1)\n",
        "        plt.plot(self.history.history['loss'])\n",
        "        plt.plot(self.history.history['val_loss'])\n",
        "        plt.title('Training and Validation Loss')\n",
        "        plt.xlabel('Epochs')\n",
        "        plt.ylabel('Loss')\n",
        "        plt.legend(['Train', 'Val'])\n",
        "\n",
        "        plt.subplot(1,2,2)\n",
        "        plt.plot(self.history.history['sparse_categorical_accuracy'])\n",
        "        plt.plot(self.history.history['val_sparse_categorical_accuracy'])\n",
        "        plt.title('Training and Validation Accuracy')\n",
        "        plt.xlabel('Epochs')\n",
        "        plt.ylabel('Accuracy')\n",
        "        plt.legend(['Train', 'Val'])    \n",
        "\n",
        "    def test_on_dataset(self, dataset: Dataset, limit=None):\n",
        "        predictions = []\n",
        "        n = dataset.n_files if not limit else int(dataset.n_files * limit)\n",
        "        for img in tqdm(dataset.images_seq(n), total=n):\n",
        "            predictions.append(self.test_on_image(img))\n",
        "        return predictions\n",
        "\n",
        "    def test_on_image(self, img: np.ndarray):\n",
        "        prediction = np.argmax(self.model(np.array([img])))\n",
        "        return prediction\n"
      ]
    },
    {
      "cell_type": "code",
      "execution_count": 22,
      "metadata": {
        "colab": {
          "base_uri": "https://localhost:8080/"
        },
        "id": "gsEN-WjiQ-Ci",
        "outputId": "74ce469d-1b74-4d19-d824-f39fe5eb4a08",
        "vscode": {
          "languageId": "python"
        }
      },
      "outputs": [
        {
          "output_type": "stream",
          "name": "stdout",
          "text": [
            "Model: \"sequential_2\"\n",
            "_________________________________________________________________\n",
            " Layer (type)                Output Shape              Param #   \n",
            "=================================================================\n",
            " conv2d_16 (Conv2D)          (None, 224, 224, 16)      448       \n",
            "                                                                 \n",
            " conv2d_17 (Conv2D)          (None, 224, 224, 16)      2320      \n",
            "                                                                 \n",
            " max_pooling2d_8 (MaxPooling  (None, 56, 56, 16)       0         \n",
            " 2D)                                                             \n",
            "                                                                 \n",
            " dropout_12 (Dropout)        (None, 56, 56, 16)        0         \n",
            "                                                                 \n",
            " conv2d_18 (Conv2D)          (None, 56, 56, 32)        4640      \n",
            "                                                                 \n",
            " conv2d_19 (Conv2D)          (None, 56, 56, 32)        9248      \n",
            "                                                                 \n",
            " max_pooling2d_9 (MaxPooling  (None, 28, 28, 32)       0         \n",
            " 2D)                                                             \n",
            "                                                                 \n",
            " dropout_13 (Dropout)        (None, 28, 28, 32)        0         \n",
            "                                                                 \n",
            " conv2d_20 (Conv2D)          (None, 28, 28, 64)        18496     \n",
            "                                                                 \n",
            " conv2d_21 (Conv2D)          (None, 28, 28, 64)        36928     \n",
            "                                                                 \n",
            " max_pooling2d_10 (MaxPoolin  (None, 14, 14, 64)       0         \n",
            " g2D)                                                            \n",
            "                                                                 \n",
            " dropout_14 (Dropout)        (None, 14, 14, 64)        0         \n",
            "                                                                 \n",
            " conv2d_22 (Conv2D)          (None, 14, 14, 128)       73856     \n",
            "                                                                 \n",
            " conv2d_23 (Conv2D)          (None, 14, 14, 128)       147584    \n",
            "                                                                 \n",
            " max_pooling2d_11 (MaxPoolin  (None, 7, 7, 128)        0         \n",
            " g2D)                                                            \n",
            "                                                                 \n",
            " dropout_15 (Dropout)        (None, 7, 7, 128)         0         \n",
            "                                                                 \n",
            " flatten_2 (Flatten)         (None, 6272)              0         \n",
            "                                                                 \n",
            " dropout_16 (Dropout)        (None, 6272)              0         \n",
            "                                                                 \n",
            " dense_6 (Dense)             (None, 256)               1605888   \n",
            "                                                                 \n",
            " dropout_17 (Dropout)        (None, 256)               0         \n",
            "                                                                 \n",
            " dense_7 (Dense)             (None, 128)               32896     \n",
            "                                                                 \n",
            " dense_8 (Dense)             (None, 9)                 1161      \n",
            "                                                                 \n",
            "=================================================================\n",
            "Total params: 1,933,465\n",
            "Trainable params: 1,933,465\n",
            "Non-trainable params: 0\n",
            "_________________________________________________________________\n"
          ]
        }
      ],
      "source": [
        "model = Model()\n",
        "model.summary()"
      ]
    },
    {
      "cell_type": "markdown",
      "metadata": {
        "id": "ZMpTB6lMr00A"
      },
      "source": [
        "---\n",
        "### Классификация изображений\n",
        "\n",
        "Используя введенные выше классы можем перейти уже непосредственно к обучению модели классификации изображений. Пример общего пайплайна решения задачи приведен ниже. Вы можете его расширять и улучшать. В данном примере используются наборы данных 'train' и 'test'."
      ]
    },
    {
      "cell_type": "code",
      "execution_count": 12,
      "metadata": {
        "colab": {
          "base_uri": "https://localhost:8080/"
        },
        "id": "5cTOuZD01Up6",
        "outputId": "e29bf09c-995c-4647-a3d8-cee4de56716e",
        "vscode": {
          "languageId": "python"
        }
      },
      "outputs": [
        {
          "output_type": "stream",
          "name": "stdout",
          "text": [
            "Loading dataset train from npz.\n",
            "Done. Dataset train consists of 18000 images.\n",
            "Loading dataset test from npz.\n",
            "Done. Dataset test consists of 4500 images.\n"
          ]
        }
      ],
      "source": [
        "d_train = Dataset('train')\n",
        "d_test = Dataset('test')"
      ]
    },
    {
      "cell_type": "code",
      "execution_count": 23,
      "metadata": {
        "colab": {
          "base_uri": "https://localhost:8080/"
        },
        "id": "wBi0XpXg8_wq",
        "outputId": "b3f001e7-4430-46b0-b5a9-8c6bfb013dac",
        "vscode": {
          "languageId": "python"
        }
      },
      "outputs": [
        {
          "output_type": "stream",
          "name": "stdout",
          "text": [
            "training started\n",
            "Epoch 1/70\n",
            "225/225 [==============================] - 45s 196ms/step - loss: 2.7289 - sparse_categorical_accuracy: 0.1187 - val_loss: 2.1649 - val_sparse_categorical_accuracy: 0.1989\n",
            "Epoch 2/70\n",
            "225/225 [==============================] - 44s 193ms/step - loss: 1.8627 - sparse_categorical_accuracy: 0.2579 - val_loss: 1.8182 - val_sparse_categorical_accuracy: 0.3028\n",
            "Epoch 3/70\n",
            "225/225 [==============================] - 44s 194ms/step - loss: 1.4827 - sparse_categorical_accuracy: 0.4210 - val_loss: 1.4432 - val_sparse_categorical_accuracy: 0.4278\n",
            "Epoch 4/70\n",
            "225/225 [==============================] - 44s 194ms/step - loss: 1.2621 - sparse_categorical_accuracy: 0.5059 - val_loss: 1.2825 - val_sparse_categorical_accuracy: 0.4917\n",
            "Epoch 5/70\n",
            "225/225 [==============================] - 44s 194ms/step - loss: 1.1145 - sparse_categorical_accuracy: 0.5587 - val_loss: 1.1402 - val_sparse_categorical_accuracy: 0.5689\n",
            "Epoch 6/70\n",
            "225/225 [==============================] - 44s 194ms/step - loss: 1.0272 - sparse_categorical_accuracy: 0.6091 - val_loss: 0.8853 - val_sparse_categorical_accuracy: 0.6631\n",
            "Epoch 7/70\n",
            "225/225 [==============================] - 44s 194ms/step - loss: 0.9484 - sparse_categorical_accuracy: 0.6386 - val_loss: 0.8338 - val_sparse_categorical_accuracy: 0.6772\n",
            "Epoch 8/70\n",
            "225/225 [==============================] - 44s 195ms/step - loss: 0.8761 - sparse_categorical_accuracy: 0.6722 - val_loss: 0.8093 - val_sparse_categorical_accuracy: 0.7014\n",
            "Epoch 9/70\n",
            "225/225 [==============================] - 44s 197ms/step - loss: 0.8017 - sparse_categorical_accuracy: 0.7075 - val_loss: 0.7444 - val_sparse_categorical_accuracy: 0.7250\n",
            "Epoch 10/70\n",
            "225/225 [==============================] - 45s 202ms/step - loss: 0.7380 - sparse_categorical_accuracy: 0.7369 - val_loss: 0.6840 - val_sparse_categorical_accuracy: 0.7683\n",
            "Epoch 11/70\n",
            "225/225 [==============================] - 44s 195ms/step - loss: 0.6730 - sparse_categorical_accuracy: 0.7610 - val_loss: 0.6489 - val_sparse_categorical_accuracy: 0.7722\n",
            "Epoch 12/70\n",
            "225/225 [==============================] - 44s 197ms/step - loss: 0.5936 - sparse_categorical_accuracy: 0.7922 - val_loss: 0.6389 - val_sparse_categorical_accuracy: 0.7775\n",
            "Epoch 13/70\n",
            "225/225 [==============================] - 45s 201ms/step - loss: 0.5568 - sparse_categorical_accuracy: 0.8098 - val_loss: 0.5293 - val_sparse_categorical_accuracy: 0.8189\n",
            "Epoch 14/70\n",
            "225/225 [==============================] - 44s 195ms/step - loss: 0.5242 - sparse_categorical_accuracy: 0.8182 - val_loss: 0.4669 - val_sparse_categorical_accuracy: 0.8375\n",
            "Epoch 15/70\n",
            "225/225 [==============================] - 44s 194ms/step - loss: 0.4760 - sparse_categorical_accuracy: 0.8359 - val_loss: 0.4473 - val_sparse_categorical_accuracy: 0.8511\n",
            "Epoch 16/70\n",
            "225/225 [==============================] - 45s 200ms/step - loss: 0.4408 - sparse_categorical_accuracy: 0.8494 - val_loss: 0.5637 - val_sparse_categorical_accuracy: 0.8097\n",
            "Epoch 17/70\n",
            "225/225 [==============================] - 44s 194ms/step - loss: 0.4182 - sparse_categorical_accuracy: 0.8560 - val_loss: 0.4291 - val_sparse_categorical_accuracy: 0.8550\n",
            "Epoch 18/70\n",
            "225/225 [==============================] - 44s 194ms/step - loss: 0.3576 - sparse_categorical_accuracy: 0.8776 - val_loss: 0.3278 - val_sparse_categorical_accuracy: 0.8911\n",
            "Epoch 19/70\n",
            "225/225 [==============================] - 45s 200ms/step - loss: 0.3458 - sparse_categorical_accuracy: 0.8842 - val_loss: 0.3761 - val_sparse_categorical_accuracy: 0.8833\n",
            "Epoch 20/70\n",
            "225/225 [==============================] - 44s 194ms/step - loss: 0.3325 - sparse_categorical_accuracy: 0.8878 - val_loss: 0.6213 - val_sparse_categorical_accuracy: 0.8083\n",
            "Epoch 21/70\n",
            "225/225 [==============================] - 44s 194ms/step - loss: 0.3053 - sparse_categorical_accuracy: 0.8949 - val_loss: 0.2755 - val_sparse_categorical_accuracy: 0.9103\n",
            "Epoch 22/70\n",
            "225/225 [==============================] - 44s 194ms/step - loss: 0.2812 - sparse_categorical_accuracy: 0.9051 - val_loss: 0.2958 - val_sparse_categorical_accuracy: 0.9078\n",
            "Epoch 23/70\n",
            "225/225 [==============================] - 44s 195ms/step - loss: 0.2828 - sparse_categorical_accuracy: 0.9050 - val_loss: 0.2773 - val_sparse_categorical_accuracy: 0.9111\n",
            "Epoch 24/70\n",
            "225/225 [==============================] - 44s 195ms/step - loss: 0.2619 - sparse_categorical_accuracy: 0.9114 - val_loss: 0.2996 - val_sparse_categorical_accuracy: 0.9108\n",
            "Epoch 25/70\n",
            "225/225 [==============================] - 44s 195ms/step - loss: 0.2560 - sparse_categorical_accuracy: 0.9119 - val_loss: 0.2210 - val_sparse_categorical_accuracy: 0.9228\n",
            "Epoch 26/70\n",
            "225/225 [==============================] - 44s 195ms/step - loss: 0.2363 - sparse_categorical_accuracy: 0.9210 - val_loss: 0.2690 - val_sparse_categorical_accuracy: 0.9144\n",
            "Epoch 27/70\n",
            "225/225 [==============================] - 44s 195ms/step - loss: 0.2278 - sparse_categorical_accuracy: 0.9223 - val_loss: 0.2786 - val_sparse_categorical_accuracy: 0.9125\n",
            "Epoch 28/70\n",
            "225/225 [==============================] - 44s 195ms/step - loss: 0.2351 - sparse_categorical_accuracy: 0.9202 - val_loss: 0.2188 - val_sparse_categorical_accuracy: 0.9264\n",
            "Epoch 29/70\n",
            "225/225 [==============================] - 44s 194ms/step - loss: 0.2120 - sparse_categorical_accuracy: 0.9281 - val_loss: 0.2337 - val_sparse_categorical_accuracy: 0.9281\n",
            "Epoch 30/70\n",
            "225/225 [==============================] - 44s 194ms/step - loss: 0.2201 - sparse_categorical_accuracy: 0.9265 - val_loss: 0.2335 - val_sparse_categorical_accuracy: 0.9158\n",
            "Epoch 31/70\n",
            "225/225 [==============================] - 45s 200ms/step - loss: 0.1996 - sparse_categorical_accuracy: 0.9319 - val_loss: 0.2419 - val_sparse_categorical_accuracy: 0.9156\n",
            "Epoch 32/70\n",
            "225/225 [==============================] - 45s 200ms/step - loss: 0.1935 - sparse_categorical_accuracy: 0.9349 - val_loss: 0.2546 - val_sparse_categorical_accuracy: 0.9197\n",
            "Epoch 33/70\n",
            "225/225 [==============================] - 44s 193ms/step - loss: 0.1756 - sparse_categorical_accuracy: 0.9419 - val_loss: 0.1757 - val_sparse_categorical_accuracy: 0.9439\n",
            "Epoch 34/70\n",
            "225/225 [==============================] - 44s 194ms/step - loss: 0.1767 - sparse_categorical_accuracy: 0.9386 - val_loss: 0.3015 - val_sparse_categorical_accuracy: 0.9097\n",
            "Epoch 35/70\n",
            "225/225 [==============================] - 44s 194ms/step - loss: 0.1708 - sparse_categorical_accuracy: 0.9432 - val_loss: 0.2081 - val_sparse_categorical_accuracy: 0.9356\n",
            "Epoch 36/70\n",
            "225/225 [==============================] - 44s 194ms/step - loss: 0.1704 - sparse_categorical_accuracy: 0.9400 - val_loss: 0.2272 - val_sparse_categorical_accuracy: 0.9228\n",
            "Epoch 37/70\n",
            "225/225 [==============================] - 44s 194ms/step - loss: 0.1811 - sparse_categorical_accuracy: 0.9389 - val_loss: 0.1742 - val_sparse_categorical_accuracy: 0.9469\n",
            "Epoch 38/70\n",
            "225/225 [==============================] - 44s 194ms/step - loss: 0.1364 - sparse_categorical_accuracy: 0.9542 - val_loss: 0.2263 - val_sparse_categorical_accuracy: 0.9294\n",
            "Epoch 39/70\n",
            "225/225 [==============================] - 44s 194ms/step - loss: 0.1395 - sparse_categorical_accuracy: 0.9530 - val_loss: 0.1636 - val_sparse_categorical_accuracy: 0.9489\n",
            "Epoch 40/70\n",
            "225/225 [==============================] - 44s 194ms/step - loss: 0.1319 - sparse_categorical_accuracy: 0.9568 - val_loss: 0.2398 - val_sparse_categorical_accuracy: 0.9258\n",
            "Epoch 41/70\n",
            "225/225 [==============================] - 44s 194ms/step - loss: 0.1434 - sparse_categorical_accuracy: 0.9500 - val_loss: 0.1464 - val_sparse_categorical_accuracy: 0.9514\n",
            "Epoch 42/70\n",
            "225/225 [==============================] - 44s 194ms/step - loss: 0.1336 - sparse_categorical_accuracy: 0.9528 - val_loss: 0.1717 - val_sparse_categorical_accuracy: 0.9514\n",
            "Epoch 43/70\n",
            "225/225 [==============================] - 45s 200ms/step - loss: 0.1392 - sparse_categorical_accuracy: 0.9531 - val_loss: 0.1916 - val_sparse_categorical_accuracy: 0.9378\n",
            "Epoch 44/70\n",
            "225/225 [==============================] - 44s 194ms/step - loss: 0.1291 - sparse_categorical_accuracy: 0.9550 - val_loss: 0.2407 - val_sparse_categorical_accuracy: 0.9175\n",
            "Epoch 45/70\n",
            "225/225 [==============================] - 44s 194ms/step - loss: 0.1170 - sparse_categorical_accuracy: 0.9606 - val_loss: 0.1755 - val_sparse_categorical_accuracy: 0.9456\n",
            "Epoch 46/70\n",
            "225/225 [==============================] - 44s 194ms/step - loss: 0.1128 - sparse_categorical_accuracy: 0.9626 - val_loss: 0.1868 - val_sparse_categorical_accuracy: 0.9475\n",
            "Epoch 47/70\n",
            "225/225 [==============================] - 44s 194ms/step - loss: 0.1227 - sparse_categorical_accuracy: 0.9589 - val_loss: 0.1560 - val_sparse_categorical_accuracy: 0.9517\n",
            "Epoch 48/70\n",
            "225/225 [==============================] - 44s 194ms/step - loss: 0.1048 - sparse_categorical_accuracy: 0.9657 - val_loss: 0.2076 - val_sparse_categorical_accuracy: 0.9425\n",
            "Epoch 49/70\n",
            "225/225 [==============================] - 44s 194ms/step - loss: 0.1203 - sparse_categorical_accuracy: 0.9590 - val_loss: 0.2129 - val_sparse_categorical_accuracy: 0.9406\n",
            "Epoch 50/70\n",
            "225/225 [==============================] - 44s 194ms/step - loss: 0.1117 - sparse_categorical_accuracy: 0.9630 - val_loss: 0.2192 - val_sparse_categorical_accuracy: 0.9356\n",
            "Epoch 51/70\n",
            "225/225 [==============================] - 44s 194ms/step - loss: 0.0894 - sparse_categorical_accuracy: 0.9681 - val_loss: 0.1604 - val_sparse_categorical_accuracy: 0.9539\n",
            "Epoch 52/70\n",
            "225/225 [==============================] - 44s 194ms/step - loss: 0.1188 - sparse_categorical_accuracy: 0.9599 - val_loss: 0.2036 - val_sparse_categorical_accuracy: 0.9422\n",
            "Epoch 53/70\n",
            "225/225 [==============================] - 44s 194ms/step - loss: 0.0904 - sparse_categorical_accuracy: 0.9692 - val_loss: 0.1871 - val_sparse_categorical_accuracy: 0.9419\n",
            "Epoch 54/70\n",
            "225/225 [==============================] - 44s 194ms/step - loss: 0.0974 - sparse_categorical_accuracy: 0.9674 - val_loss: 0.1997 - val_sparse_categorical_accuracy: 0.9444\n",
            "Epoch 55/70\n",
            "225/225 [==============================] - 44s 194ms/step - loss: 0.0974 - sparse_categorical_accuracy: 0.9693 - val_loss: 0.1605 - val_sparse_categorical_accuracy: 0.9489\n",
            "Epoch 56/70\n",
            "225/225 [==============================] - 44s 194ms/step - loss: 0.1019 - sparse_categorical_accuracy: 0.9661 - val_loss: 0.2180 - val_sparse_categorical_accuracy: 0.9406\n",
            "Epoch 57/70\n",
            "225/225 [==============================] - 44s 194ms/step - loss: 0.0940 - sparse_categorical_accuracy: 0.9690 - val_loss: 0.1707 - val_sparse_categorical_accuracy: 0.9569\n",
            "Epoch 58/70\n",
            "225/225 [==============================] - 44s 194ms/step - loss: 0.0825 - sparse_categorical_accuracy: 0.9723 - val_loss: 0.1627 - val_sparse_categorical_accuracy: 0.9528\n",
            "Epoch 59/70\n",
            "225/225 [==============================] - 44s 194ms/step - loss: 0.0767 - sparse_categorical_accuracy: 0.9741 - val_loss: 0.2092 - val_sparse_categorical_accuracy: 0.9456\n",
            "Epoch 60/70\n",
            "225/225 [==============================] - 44s 194ms/step - loss: 0.0836 - sparse_categorical_accuracy: 0.9715 - val_loss: 0.1619 - val_sparse_categorical_accuracy: 0.9564\n",
            "Epoch 61/70\n",
            "225/225 [==============================] - 44s 194ms/step - loss: 0.0652 - sparse_categorical_accuracy: 0.9778 - val_loss: 0.2250 - val_sparse_categorical_accuracy: 0.9469\n",
            "Epoch 62/70\n",
            "225/225 [==============================] - 44s 194ms/step - loss: 0.0761 - sparse_categorical_accuracy: 0.9760 - val_loss: 0.2039 - val_sparse_categorical_accuracy: 0.9483\n",
            "Epoch 63/70\n",
            "225/225 [==============================] - 44s 194ms/step - loss: 0.0731 - sparse_categorical_accuracy: 0.9760 - val_loss: 0.1411 - val_sparse_categorical_accuracy: 0.9603\n",
            "Epoch 64/70\n",
            "225/225 [==============================] - 44s 194ms/step - loss: 0.0713 - sparse_categorical_accuracy: 0.9771 - val_loss: 0.1469 - val_sparse_categorical_accuracy: 0.9581\n",
            "Epoch 65/70\n",
            "225/225 [==============================] - 44s 194ms/step - loss: 0.0671 - sparse_categorical_accuracy: 0.9768 - val_loss: 0.1925 - val_sparse_categorical_accuracy: 0.9486\n",
            "Epoch 66/70\n",
            "225/225 [==============================] - 44s 194ms/step - loss: 0.0860 - sparse_categorical_accuracy: 0.9731 - val_loss: 0.2423 - val_sparse_categorical_accuracy: 0.9356\n",
            "Epoch 67/70\n",
            "225/225 [==============================] - 44s 194ms/step - loss: 0.0622 - sparse_categorical_accuracy: 0.9774 - val_loss: 0.1895 - val_sparse_categorical_accuracy: 0.9481\n",
            "Epoch 68/70\n",
            "225/225 [==============================] - 44s 194ms/step - loss: 0.0783 - sparse_categorical_accuracy: 0.9741 - val_loss: 0.1918 - val_sparse_categorical_accuracy: 0.9478\n",
            "Epoch 69/70\n",
            "225/225 [==============================] - 44s 194ms/step - loss: 0.0628 - sparse_categorical_accuracy: 0.9801 - val_loss: 0.1767 - val_sparse_categorical_accuracy: 0.9478\n",
            "Epoch 70/70\n",
            "225/225 [==============================] - 44s 194ms/step - loss: 0.0602 - sparse_categorical_accuracy: 0.9809 - val_loss: 0.1710 - val_sparse_categorical_accuracy: 0.9539\n",
            "training done\n",
            "INFO:tensorflow:Assets written to: /content/drive/MyDrive/dev/neural_networks_task1/best/assets\n"
          ]
        }
      ],
      "source": [
        "if not EVALUATE_ONLY:\n",
        "    model.train(d_train)\n",
        "    model.save('best')\n",
        "else:\n",
        "    model.load('best')"
      ]
    },
    {
      "cell_type": "markdown",
      "source": [
        "Нарисуем графики функции потерь и точности."
      ],
      "metadata": {
        "id": "BsbYaeLwF4z1"
      }
    },
    {
      "cell_type": "code",
      "execution_count": 25,
      "metadata": {
        "colab": {
          "base_uri": "https://localhost:8080/",
          "height": 350
        },
        "id": "zdHLoT4YLI_5",
        "outputId": "cd804de2-be40-4605-d547-a404088a2052",
        "vscode": {
          "languageId": "python"
        }
      },
      "outputs": [
        {
          "output_type": "display_data",
          "data": {
            "text/plain": [
              "<Figure size 1080x360 with 2 Axes>"
            ],
            "image/png": "[encoded data removed]"
          },
          "metadata": {
            "needs_background": "light"
          }
        }
      ],
      "source": [
        "model.loss_and_accuracy_plots()"
      ]
    },
    {
      "cell_type": "markdown",
      "metadata": {
        "id": "CcM2EiRMVP93"
      },
      "source": [
        "Пример тестирования модели на части набора данных:"
      ]
    },
    {
      "cell_type": "code",
      "execution_count": null,
      "metadata": {
        "id": "-huoRkBF4k9_",
        "vscode": {
          "languageId": "python"
        }
      },
      "outputs": [],
      "source": [
        "model = Model()\n",
        "model.load('best')"
      ]
    },
    {
      "cell_type": "code",
      "execution_count": 26,
      "metadata": {
        "colab": {
          "base_uri": "https://localhost:8080/",
          "height": 136,
          "referenced_widgets": [
            "5d1414b5af4841e0ad32115cf800f6cc",
            "28e527569b644012b13492853c29bfa9",
            "7ae0cc34e8304e1d90e86675fe8a9448",
            "12857c871614494e8dcde90b2560a252",
            "9017bf3086ff4f35954f42395253ae2d",
            "54f82f1d9e4a4581b638f257521a3660",
            "3f66c26c33de4431941b7b56d76896fb",
            "b3bffe61b07e47a3b1458939da8cb6d3",
            "0243d0c3f54d4ac3a1de139c41b83766",
            "4eb61b9a7e9045488ef1bfcacc49574d",
            "2f93afe944ec4fdf97dbc63c4a8bdaab"
          ]
        },
        "id": "I0AqmeLEKqrs",
        "outputId": "5da3c5b7-9b79-4831-c458-f0c0e2d5fa4e",
        "vscode": {
          "languageId": "python"
        }
      },
      "outputs": [
        {
          "output_type": "display_data",
          "data": {
            "text/plain": [
              "  0%|          | 0/450 [00:00<?, ?it/s]"
            ],
            "application/vnd.jupyter.widget-view+json": {
              "version_major": 2,
              "version_minor": 0,
              "model_id": "5d1414b5af4841e0ad32115cf800f6cc"
            }
          },
          "metadata": {}
        },
        {
          "output_type": "stream",
          "name": "stdout",
          "text": [
            "metrics for 10% of test:\n",
            "\t accuracy 0.9867:\n",
            "\t balanced accuracy 0.9867:\n"
          ]
        },
        {
          "output_type": "stream",
          "name": "stderr",
          "text": [
            "/usr/local/lib/python3.7/dist-packages/sklearn/metrics/_classification.py:1987: UserWarning: y_pred contains classes not in y_true\n",
            "  warnings.warn(\"y_pred contains classes not in y_true\")\n"
          ]
        }
      ],
      "source": [
        "# evaluating model on 10% of test dataset\n",
        "pred_1 = model.test_on_dataset(d_test, limit=0.1)\n",
        "#model.test_on_dataset(d_test, limit=0.1)\n",
        "Metrics.print_all(d_test.labels[:len(pred_1)], pred_1, '10% of test')"
      ]
    },
    {
      "cell_type": "markdown",
      "metadata": {
        "id": "mSwvHVVzVWZ5"
      },
      "source": [
        "Пример тестирования модели на полном наборе данных:"
      ]
    },
    {
      "cell_type": "code",
      "execution_count": 27,
      "metadata": {
        "colab": {
          "base_uri": "https://localhost:8080/",
          "height": 101,
          "referenced_widgets": [
            "0c0479c8750c4fb5a9382a6c54b1b25e",
            "48db464c63764a6cbf005d2592bf44d2",
            "2e559d6f18804837a27c17218afadb93",
            "40b66e8325d54ec9944dccd6da61241f",
            "39d7bda1d1af4965af8c4571ecdf7d68",
            "96d78c87337e4750871bd35dc48e8f3b",
            "7eee8be5152f454ea4687c151cfff80a",
            "a32e7bb8dfba49b88b15f0a3313e8acd",
            "28fc38788b2842598956f171271d85b6",
            "7d5cc12bee5f496caec12f775c088283",
            "23ca2d0c8a2a461dbf58cb9f070bd5e1"
          ]
        },
        "id": "mjI_sbMi3TMY",
        "outputId": "af6a710f-8089-442f-fa53-b2540f60b0c0",
        "vscode": {
          "languageId": "python"
        }
      },
      "outputs": [
        {
          "output_type": "display_data",
          "data": {
            "text/plain": [
              "  0%|          | 0/4500 [00:00<?, ?it/s]"
            ],
            "application/vnd.jupyter.widget-view+json": {
              "version_major": 2,
              "version_minor": 0,
              "model_id": "0c0479c8750c4fb5a9382a6c54b1b25e"
            }
          },
          "metadata": {}
        },
        {
          "output_type": "stream",
          "name": "stdout",
          "text": [
            "metrics for test:\n",
            "\t accuracy 0.9544:\n",
            "\t balanced accuracy 0.9544:\n"
          ]
        }
      ],
      "source": [
        "# evaluating model on full test dataset (may take time)\n",
        "if TEST_ON_LARGE_DATASET:\n",
        "    pred_2 = model.test_on_dataset(d_test)\n",
        "    Metrics.print_all(d_test.labels, pred_2, 'test')"
      ]
    },
    {
      "cell_type": "markdown",
      "metadata": {
        "id": "kvyEHdxEB18o"
      },
      "source": [
        "Результат работы пайплайна обучения и тестирования выше тоже будет оцениваться. Поэтому не забудьте присылать на проверку ноутбук с выполнеными ячейками кода с демонстрациями метрик обучения, графиками и т.п. В этом пайплайне Вам необходимо продемонстрировать работу всех реализованных дополнений, улучшений и т.п.\n",
        "\n",
        "<font color=\"red\">\n",
        "Настоятельно рекомендуется после получения пайплайна с полными результатами обучения экспортировать ноутбук в pdf (файл -> печать) и прислать этот pdf вместе с самим ноутбуком.\n",
        "</font>"
      ]
    },
    {
      "cell_type": "markdown",
      "metadata": {
        "id": "RzSKAvVI6uCW"
      },
      "source": [
        "### Тестирование модели на других наборах данных\n",
        "\n",
        "Ваша модель должна поддерживать тестирование на других наборах данных. Ниже приведен фрагмент кода, который будет осуществлять тестирование для оценивания Вашей модели на дополнительных тестовых наборах данных.\n",
        "\n",
        "<font color=\"red\">\n",
        "Прежде чем отсылать задание на проверку, убедитесь в работоспособности фрагмента кода ниже.\n",
        "</font>"
      ]
    },
    {
      "cell_type": "code",
      "execution_count": 31,
      "metadata": {
        "colab": {
          "base_uri": "https://localhost:8080/",
          "height": 205,
          "referenced_widgets": [
            "732a11514abf479396fa9f8fb668a485",
            "7395444e888341e596880d673819e294",
            "2ac781f00df64a13a4ff50b61afd3e5f",
            "25649a75ee7d4c3b82ad91009d764a00",
            "bea5f9a65a1147f88089ad1a4fd3c51f",
            "d936c455227c41c4a9b190454e72720f",
            "487163963fad481a84bf4a4ef29ba9b0",
            "ebeb5f8b5ce24ba196df8a7e6ab3e49b",
            "4d0d286ab6674a0c80e689ce6d73297b",
            "b147cf865e514c319b5334aea18f6266",
            "926b40329d28416a8d7a7564b1f099c2"
          ]
        },
        "id": "sdY3uTt87tqv",
        "outputId": "8c2d0661-4654-4b82-9869-271977c0236b",
        "vscode": {
          "languageId": "python"
        }
      },
      "outputs": [
        {
          "output_type": "stream",
          "name": "stderr",
          "text": [
            "Downloading...\n",
            "From: https://drive.google.com/uc?id=1viiB0s041CNsAK4itvX8PnYthJ-MDnQc\n",
            "To: /content/test_tiny.npz\n",
            "100%|██████████| 10.6M/10.6M [00:00<00:00, 45.2MB/s]"
          ]
        },
        {
          "output_type": "stream",
          "name": "stdout",
          "text": [
            "Loading dataset test_tiny from npz.\n",
            "Done. Dataset test_tiny consists of 90 images.\n"
          ]
        },
        {
          "output_type": "stream",
          "name": "stderr",
          "text": [
            "\n"
          ]
        },
        {
          "output_type": "display_data",
          "data": {
            "text/plain": [
              "  0%|          | 0/90 [00:00<?, ?it/s]"
            ],
            "application/vnd.jupyter.widget-view+json": {
              "version_major": 2,
              "version_minor": 0,
              "model_id": "732a11514abf479396fa9f8fb668a485"
            }
          },
          "metadata": {}
        },
        {
          "output_type": "stream",
          "name": "stdout",
          "text": [
            "metrics for test_tiny:\n",
            "\t accuracy 0.9111:\n",
            "\t balanced accuracy 0.9111:\n"
          ]
        }
      ],
      "source": [
        "final_model = Model()\n",
        "final_model.load('best')\n",
        "d_test = Dataset('test_tiny')\n",
        "pred = final_model.test_on_dataset(d_test)\n",
        "Metrics.print_all(d_test.labels, pred, 'test_tiny')"
      ]
    },
    {
      "cell_type": "markdown",
      "metadata": {
        "id": "lPvyj4gscU10"
      },
      "source": [
        "Отмонтировать Google Drive."
      ]
    },
    {
      "cell_type": "code",
      "execution_count": null,
      "metadata": {
        "id": "NfX35zNSvFWn",
        "vscode": {
          "languageId": "python"
        }
      },
      "outputs": [],
      "source": [
        "drive.flush_and_unmount()"
      ]
    }
  ],
  "metadata": {
    "colab": {
      "collapsed_sections": [],
      "name": "problem_1_starter_nadam.ipynb",
      "provenance": []
    },
    "kernelspec": {
      "display_name": "Python 3",
      "name": "python3"
    },
    "widgets": {
      "application/vnd.jupyter.widget-state+json": {
        "5d1414b5af4841e0ad32115cf800f6cc": {
          "model_module": "@jupyter-widgets/controls",
          "model_name": "HBoxModel",
          "model_module_version": "1.5.0",
          "state": {
            "_dom_classes": [],
            "_model_module": "@jupyter-widgets/controls",
            "_model_module_version": "1.5.0",
            "_model_name": "HBoxModel",
            "_view_count": null,
            "_view_module": "@jupyter-widgets/controls",
            "_view_module_version": "1.5.0",
            "_view_name": "HBoxView",
            "box_style": "",
            "children": [
              "IPY_MODEL_28e527569b644012b13492853c29bfa9",
              "IPY_MODEL_7ae0cc34e8304e1d90e86675fe8a9448",
              "IPY_MODEL_12857c871614494e8dcde90b2560a252"
            ],
            "layout": "IPY_MODEL_9017bf3086ff4f35954f42395253ae2d"
          }
        },
        "28e527569b644012b13492853c29bfa9": {
          "model_module": "@jupyter-widgets/controls",
          "model_name": "HTMLModel",
          "model_module_version": "1.5.0",
          "state": {
            "_dom_classes": [],
            "_model_module": "@jupyter-widgets/controls",
            "_model_module_version": "1.5.0",
            "_model_name": "HTMLModel",
            "_view_count": null,
            "_view_module": "@jupyter-widgets/controls",
            "_view_module_version": "1.5.0",
            "_view_name": "HTMLView",
            "description": "",
            "description_tooltip": null,
            "layout": "IPY_MODEL_54f82f1d9e4a4581b638f257521a3660",
            "placeholder": "​",
            "style": "IPY_MODEL_3f66c26c33de4431941b7b56d76896fb",
            "value": "100%"
          }
        },
        "7ae0cc34e8304e1d90e86675fe8a9448": {
          "model_module": "@jupyter-widgets/controls",
          "model_name": "FloatProgressModel",
          "model_module_version": "1.5.0",
          "state": {
            "_dom_classes": [],
            "_model_module": "@jupyter-widgets/controls",
            "_model_module_version": "1.5.0",
            "_model_name": "FloatProgressModel",
            "_view_count": null,
            "_view_module": "@jupyter-widgets/controls",
            "_view_module_version": "1.5.0",
            "_view_name": "ProgressView",
            "bar_style": "success",
            "description": "",
            "description_tooltip": null,
            "layout": "IPY_MODEL_b3bffe61b07e47a3b1458939da8cb6d3",
            "max": 450,
            "min": 0,
            "orientation": "horizontal",
            "style": "IPY_MODEL_0243d0c3f54d4ac3a1de139c41b83766",
            "value": 450
          }
        },
        "12857c871614494e8dcde90b2560a252": {
          "model_module": "@jupyter-widgets/controls",
          "model_name": "HTMLModel",
          "model_module_version": "1.5.0",
          "state": {
            "_dom_classes": [],
            "_model_module": "@jupyter-widgets/controls",
            "_model_module_version": "1.5.0",
            "_model_name": "HTMLModel",
            "_view_count": null,
            "_view_module": "@jupyter-widgets/controls",
            "_view_module_version": "1.5.0",
            "_view_name": "HTMLView",
            "description": "",
            "description_tooltip": null,
            "layout": "IPY_MODEL_4eb61b9a7e9045488ef1bfcacc49574d",
            "placeholder": "​",
            "style": "IPY_MODEL_2f93afe944ec4fdf97dbc63c4a8bdaab",
            "value": " 450/450 [00:06&lt;00:00, 68.57it/s]"
          }
        },
        "9017bf3086ff4f35954f42395253ae2d": {
          "model_module": "@jupyter-widgets/base",
          "model_name": "LayoutModel",
          "model_module_version": "1.2.0",
          "state": {
            "_model_module": "@jupyter-widgets/base",
            "_model_module_version": "1.2.0",
            "_model_name": "LayoutModel",
            "_view_count": null,
            "_view_module": "@jupyter-widgets/base",
            "_view_module_version": "1.2.0",
            "_view_name": "LayoutView",
            "align_content": null,
            "align_items": null,
            "align_self": null,
            "border": null,
            "bottom": null,
            "display": null,
            "flex": null,
            "flex_flow": null,
            "grid_area": null,
            "grid_auto_columns": null,
            "grid_auto_flow": null,
            "grid_auto_rows": null,
            "grid_column": null,
            "grid_gap": null,
            "grid_row": null,
            "grid_template_areas": null,
            "grid_template_columns": null,
            "grid_template_rows": null,
            "height": null,
            "justify_content": null,
            "justify_items": null,
            "left": null,
            "margin": null,
            "max_height": null,
            "max_width": null,
            "min_height": null,
            "min_width": null,
            "object_fit": null,
            "object_position": null,
            "order": null,
            "overflow": null,
            "overflow_x": null,
            "overflow_y": null,
            "padding": null,
            "right": null,
            "top": null,
            "visibility": null,
            "width": null
          }
        },
        "54f82f1d9e4a4581b638f257521a3660": {
          "model_module": "@jupyter-widgets/base",
          "model_name": "LayoutModel",
          "model_module_version": "1.2.0",
          "state": {
            "_model_module": "@jupyter-widgets/base",
            "_model_module_version": "1.2.0",
            "_model_name": "LayoutModel",
            "_view_count": null,
            "_view_module": "@jupyter-widgets/base",
            "_view_module_version": "1.2.0",
            "_view_name": "LayoutView",
            "align_content": null,
            "align_items": null,
            "align_self": null,
            "border": null,
            "bottom": null,
            "display": null,
            "flex": null,
            "flex_flow": null,
            "grid_area": null,
            "grid_auto_columns": null,
            "grid_auto_flow": null,
            "grid_auto_rows": null,
            "grid_column": null,
            "grid_gap": null,
            "grid_row": null,
            "grid_template_areas": null,
            "grid_template_columns": null,
            "grid_template_rows": null,
            "height": null,
            "justify_content": null,
            "justify_items": null,
            "left": null,
            "margin": null,
            "max_height": null,
            "max_width": null,
            "min_height": null,
            "min_width": null,
            "object_fit": null,
            "object_position": null,
            "order": null,
            "overflow": null,
            "overflow_x": null,
            "overflow_y": null,
            "padding": null,
            "right": null,
            "top": null,
            "visibility": null,
            "width": null
          }
        },
        "3f66c26c33de4431941b7b56d76896fb": {
          "model_module": "@jupyter-widgets/controls",
          "model_name": "DescriptionStyleModel",
          "model_module_version": "1.5.0",
          "state": {
            "_model_module": "@jupyter-widgets/controls",
            "_model_module_version": "1.5.0",
            "_model_name": "DescriptionStyleModel",
            "_view_count": null,
            "_view_module": "@jupyter-widgets/base",
            "_view_module_version": "1.2.0",
            "_view_name": "StyleView",
            "description_width": ""
          }
        },
        "b3bffe61b07e47a3b1458939da8cb6d3": {
          "model_module": "@jupyter-widgets/base",
          "model_name": "LayoutModel",
          "model_module_version": "1.2.0",
          "state": {
            "_model_module": "@jupyter-widgets/base",
            "_model_module_version": "1.2.0",
            "_model_name": "LayoutModel",
            "_view_count": null,
            "_view_module": "@jupyter-widgets/base",
            "_view_module_version": "1.2.0",
            "_view_name": "LayoutView",
            "align_content": null,
            "align_items": null,
            "align_self": null,
            "border": null,
            "bottom": null,
            "display": null,
            "flex": null,
            "flex_flow": null,
            "grid_area": null,
            "grid_auto_columns": null,
            "grid_auto_flow": null,
            "grid_auto_rows": null,
            "grid_column": null,
            "grid_gap": null,
            "grid_row": null,
            "grid_template_areas": null,
            "grid_template_columns": null,
            "grid_template_rows": null,
            "height": null,
            "justify_content": null,
            "justify_items": null,
            "left": null,
            "margin": null,
            "max_height": null,
            "max_width": null,
            "min_height": null,
            "min_width": null,
            "object_fit": null,
            "object_position": null,
            "order": null,
            "overflow": null,
            "overflow_x": null,
            "overflow_y": null,
            "padding": null,
            "right": null,
            "top": null,
            "visibility": null,
            "width": null
          }
        },
        "0243d0c3f54d4ac3a1de139c41b83766": {
          "model_module": "@jupyter-widgets/controls",
          "model_name": "ProgressStyleModel",
          "model_module_version": "1.5.0",
          "state": {
            "_model_module": "@jupyter-widgets/controls",
            "_model_module_version": "1.5.0",
            "_model_name": "ProgressStyleModel",
            "_view_count": null,
            "_view_module": "@jupyter-widgets/base",
            "_view_module_version": "1.2.0",
            "_view_name": "StyleView",
            "bar_color": null,
            "description_width": ""
          }
        },
        "4eb61b9a7e9045488ef1bfcacc49574d": {
          "model_module": "@jupyter-widgets/base",
          "model_name": "LayoutModel",
          "model_module_version": "1.2.0",
          "state": {
            "_model_module": "@jupyter-widgets/base",
            "_model_module_version": "1.2.0",
            "_model_name": "LayoutModel",
            "_view_count": null,
            "_view_module": "@jupyter-widgets/base",
            "_view_module_version": "1.2.0",
            "_view_name": "LayoutView",
            "align_content": null,
            "align_items": null,
            "align_self": null,
            "border": null,
            "bottom": null,
            "display": null,
            "flex": null,
            "flex_flow": null,
            "grid_area": null,
            "grid_auto_columns": null,
            "grid_auto_flow": null,
            "grid_auto_rows": null,
            "grid_column": null,
            "grid_gap": null,
            "grid_row": null,
            "grid_template_areas": null,
            "grid_template_columns": null,
            "grid_template_rows": null,
            "height": null,
            "justify_content": null,
            "justify_items": null,
            "left": null,
            "margin": null,
            "max_height": null,
            "max_width": null,
            "min_height": null,
            "min_width": null,
            "object_fit": null,
            "object_position": null,
            "order": null,
            "overflow": null,
            "overflow_x": null,
            "overflow_y": null,
            "padding": null,
            "right": null,
            "top": null,
            "visibility": null,
            "width": null
          }
        },
        "2f93afe944ec4fdf97dbc63c4a8bdaab": {
          "model_module": "@jupyter-widgets/controls",
          "model_name": "DescriptionStyleModel",
          "model_module_version": "1.5.0",
          "state": {
            "_model_module": "@jupyter-widgets/controls",
            "_model_module_version": "1.5.0",
            "_model_name": "DescriptionStyleModel",
            "_view_count": null,
            "_view_module": "@jupyter-widgets/base",
            "_view_module_version": "1.2.0",
            "_view_name": "StyleView",
            "description_width": ""
          }
        },
        "0c0479c8750c4fb5a9382a6c54b1b25e": {
          "model_module": "@jupyter-widgets/controls",
          "model_name": "HBoxModel",
          "model_module_version": "1.5.0",
          "state": {
            "_dom_classes": [],
            "_model_module": "@jupyter-widgets/controls",
            "_model_module_version": "1.5.0",
            "_model_name": "HBoxModel",
            "_view_count": null,
            "_view_module": "@jupyter-widgets/controls",
            "_view_module_version": "1.5.0",
            "_view_name": "HBoxView",
            "box_style": "",
            "children": [
              "IPY_MODEL_48db464c63764a6cbf005d2592bf44d2",
              "IPY_MODEL_2e559d6f18804837a27c17218afadb93",
              "IPY_MODEL_40b66e8325d54ec9944dccd6da61241f"
            ],
            "layout": "IPY_MODEL_39d7bda1d1af4965af8c4571ecdf7d68"
          }
        },
        "48db464c63764a6cbf005d2592bf44d2": {
          "model_module": "@jupyter-widgets/controls",
          "model_name": "HTMLModel",
          "model_module_version": "1.5.0",
          "state": {
            "_dom_classes": [],
            "_model_module": "@jupyter-widgets/controls",
            "_model_module_version": "1.5.0",
            "_model_name": "HTMLModel",
            "_view_count": null,
            "_view_module": "@jupyter-widgets/controls",
            "_view_module_version": "1.5.0",
            "_view_name": "HTMLView",
            "description": "",
            "description_tooltip": null,
            "layout": "IPY_MODEL_96d78c87337e4750871bd35dc48e8f3b",
            "placeholder": "​",
            "style": "IPY_MODEL_7eee8be5152f454ea4687c151cfff80a",
            "value": "100%"
          }
        },
        "2e559d6f18804837a27c17218afadb93": {
          "model_module": "@jupyter-widgets/controls",
          "model_name": "FloatProgressModel",
          "model_module_version": "1.5.0",
          "state": {
            "_dom_classes": [],
            "_model_module": "@jupyter-widgets/controls",
            "_model_module_version": "1.5.0",
            "_model_name": "FloatProgressModel",
            "_view_count": null,
            "_view_module": "@jupyter-widgets/controls",
            "_view_module_version": "1.5.0",
            "_view_name": "ProgressView",
            "bar_style": "success",
            "description": "",
            "description_tooltip": null,
            "layout": "IPY_MODEL_a32e7bb8dfba49b88b15f0a3313e8acd",
            "max": 4500,
            "min": 0,
            "orientation": "horizontal",
            "style": "IPY_MODEL_28fc38788b2842598956f171271d85b6",
            "value": 4500
          }
        },
        "40b66e8325d54ec9944dccd6da61241f": {
          "model_module": "@jupyter-widgets/controls",
          "model_name": "HTMLModel",
          "model_module_version": "1.5.0",
          "state": {
            "_dom_classes": [],
            "_model_module": "@jupyter-widgets/controls",
            "_model_module_version": "1.5.0",
            "_model_name": "HTMLModel",
            "_view_count": null,
            "_view_module": "@jupyter-widgets/controls",
            "_view_module_version": "1.5.0",
            "_view_name": "HTMLView",
            "description": "",
            "description_tooltip": null,
            "layout": "IPY_MODEL_7d5cc12bee5f496caec12f775c088283",
            "placeholder": "​",
            "style": "IPY_MODEL_23ca2d0c8a2a461dbf58cb9f070bd5e1",
            "value": " 4500/4500 [00:57&lt;00:00, 74.76it/s]"
          }
        },
        "39d7bda1d1af4965af8c4571ecdf7d68": {
          "model_module": "@jupyter-widgets/base",
          "model_name": "LayoutModel",
          "model_module_version": "1.2.0",
          "state": {
            "_model_module": "@jupyter-widgets/base",
            "_model_module_version": "1.2.0",
            "_model_name": "LayoutModel",
            "_view_count": null,
            "_view_module": "@jupyter-widgets/base",
            "_view_module_version": "1.2.0",
            "_view_name": "LayoutView",
            "align_content": null,
            "align_items": null,
            "align_self": null,
            "border": null,
            "bottom": null,
            "display": null,
            "flex": null,
            "flex_flow": null,
            "grid_area": null,
            "grid_auto_columns": null,
            "grid_auto_flow": null,
            "grid_auto_rows": null,
            "grid_column": null,
            "grid_gap": null,
            "grid_row": null,
            "grid_template_areas": null,
            "grid_template_columns": null,
            "grid_template_rows": null,
            "height": null,
            "justify_content": null,
            "justify_items": null,
            "left": null,
            "margin": null,
            "max_height": null,
            "max_width": null,
            "min_height": null,
            "min_width": null,
            "object_fit": null,
            "object_position": null,
            "order": null,
            "overflow": null,
            "overflow_x": null,
            "overflow_y": null,
            "padding": null,
            "right": null,
            "top": null,
            "visibility": null,
            "width": null
          }
        },
        "96d78c87337e4750871bd35dc48e8f3b": {
          "model_module": "@jupyter-widgets/base",
          "model_name": "LayoutModel",
          "model_module_version": "1.2.0",
          "state": {
            "_model_module": "@jupyter-widgets/base",
            "_model_module_version": "1.2.0",
            "_model_name": "LayoutModel",
            "_view_count": null,
            "_view_module": "@jupyter-widgets/base",
            "_view_module_version": "1.2.0",
            "_view_name": "LayoutView",
            "align_content": null,
            "align_items": null,
            "align_self": null,
            "border": null,
            "bottom": null,
            "display": null,
            "flex": null,
            "flex_flow": null,
            "grid_area": null,
            "grid_auto_columns": null,
            "grid_auto_flow": null,
            "grid_auto_rows": null,
            "grid_column": null,
            "grid_gap": null,
            "grid_row": null,
            "grid_template_areas": null,
            "grid_template_columns": null,
            "grid_template_rows": null,
            "height": null,
            "justify_content": null,
            "justify_items": null,
            "left": null,
            "margin": null,
            "max_height": null,
            "max_width": null,
            "min_height": null,
            "min_width": null,
            "object_fit": null,
            "object_position": null,
            "order": null,
            "overflow": null,
            "overflow_x": null,
            "overflow_y": null,
            "padding": null,
            "right": null,
            "top": null,
            "visibility": null,
            "width": null
          }
        },
        "7eee8be5152f454ea4687c151cfff80a": {
          "model_module": "@jupyter-widgets/controls",
          "model_name": "DescriptionStyleModel",
          "model_module_version": "1.5.0",
          "state": {
            "_model_module": "@jupyter-widgets/controls",
            "_model_module_version": "1.5.0",
            "_model_name": "DescriptionStyleModel",
            "_view_count": null,
            "_view_module": "@jupyter-widgets/base",
            "_view_module_version": "1.2.0",
            "_view_name": "StyleView",
            "description_width": ""
          }
        },
        "a32e7bb8dfba49b88b15f0a3313e8acd": {
          "model_module": "@jupyter-widgets/base",
          "model_name": "LayoutModel",
          "model_module_version": "1.2.0",
          "state": {
            "_model_module": "@jupyter-widgets/base",
            "_model_module_version": "1.2.0",
            "_model_name": "LayoutModel",
            "_view_count": null,
            "_view_module": "@jupyter-widgets/base",
            "_view_module_version": "1.2.0",
            "_view_name": "LayoutView",
            "align_content": null,
            "align_items": null,
            "align_self": null,
            "border": null,
            "bottom": null,
            "display": null,
            "flex": null,
            "flex_flow": null,
            "grid_area": null,
            "grid_auto_columns": null,
            "grid_auto_flow": null,
            "grid_auto_rows": null,
            "grid_column": null,
            "grid_gap": null,
            "grid_row": null,
            "grid_template_areas": null,
            "grid_template_columns": null,
            "grid_template_rows": null,
            "height": null,
            "justify_content": null,
            "justify_items": null,
            "left": null,
            "margin": null,
            "max_height": null,
            "max_width": null,
            "min_height": null,
            "min_width": null,
            "object_fit": null,
            "object_position": null,
            "order": null,
            "overflow": null,
            "overflow_x": null,
            "overflow_y": null,
            "padding": null,
            "right": null,
            "top": null,
            "visibility": null,
            "width": null
          }
        },
        "28fc38788b2842598956f171271d85b6": {
          "model_module": "@jupyter-widgets/controls",
          "model_name": "ProgressStyleModel",
          "model_module_version": "1.5.0",
          "state": {
            "_model_module": "@jupyter-widgets/controls",
            "_model_module_version": "1.5.0",
            "_model_name": "ProgressStyleModel",
            "_view_count": null,
            "_view_module": "@jupyter-widgets/base",
            "_view_module_version": "1.2.0",
            "_view_name": "StyleView",
            "bar_color": null,
            "description_width": ""
          }
        },
        "7d5cc12bee5f496caec12f775c088283": {
          "model_module": "@jupyter-widgets/base",
          "model_name": "LayoutModel",
          "model_module_version": "1.2.0",
          "state": {
            "_model_module": "@jupyter-widgets/base",
            "_model_module_version": "1.2.0",
            "_model_name": "LayoutModel",
            "_view_count": null,
            "_view_module": "@jupyter-widgets/base",
            "_view_module_version": "1.2.0",
            "_view_name": "LayoutView",
            "align_content": null,
            "align_items": null,
            "align_self": null,
            "border": null,
            "bottom": null,
            "display": null,
            "flex": null,
            "flex_flow": null,
            "grid_area": null,
            "grid_auto_columns": null,
            "grid_auto_flow": null,
            "grid_auto_rows": null,
            "grid_column": null,
            "grid_gap": null,
            "grid_row": null,
            "grid_template_areas": null,
            "grid_template_columns": null,
            "grid_template_rows": null,
            "height": null,
            "justify_content": null,
            "justify_items": null,
            "left": null,
            "margin": null,
            "max_height": null,
            "max_width": null,
            "min_height": null,
            "min_width": null,
            "object_fit": null,
            "object_position": null,
            "order": null,
            "overflow": null,
            "overflow_x": null,
            "overflow_y": null,
            "padding": null,
            "right": null,
            "top": null,
            "visibility": null,
            "width": null
          }
        },
        "23ca2d0c8a2a461dbf58cb9f070bd5e1": {
          "model_module": "@jupyter-widgets/controls",
          "model_name": "DescriptionStyleModel",
          "model_module_version": "1.5.0",
          "state": {
            "_model_module": "@jupyter-widgets/controls",
            "_model_module_version": "1.5.0",
            "_model_name": "DescriptionStyleModel",
            "_view_count": null,
            "_view_module": "@jupyter-widgets/base",
            "_view_module_version": "1.2.0",
            "_view_name": "StyleView",
            "description_width": ""
          }
        },
        "732a11514abf479396fa9f8fb668a485": {
          "model_module": "@jupyter-widgets/controls",
          "model_name": "HBoxModel",
          "model_module_version": "1.5.0",
          "state": {
            "_dom_classes": [],
            "_model_module": "@jupyter-widgets/controls",
            "_model_module_version": "1.5.0",
            "_model_name": "HBoxModel",
            "_view_count": null,
            "_view_module": "@jupyter-widgets/controls",
            "_view_module_version": "1.5.0",
            "_view_name": "HBoxView",
            "box_style": "",
            "children": [
              "IPY_MODEL_7395444e888341e596880d673819e294",
              "IPY_MODEL_2ac781f00df64a13a4ff50b61afd3e5f",
              "IPY_MODEL_25649a75ee7d4c3b82ad91009d764a00"
            ],
            "layout": "IPY_MODEL_bea5f9a65a1147f88089ad1a4fd3c51f"
          }
        },
        "7395444e888341e596880d673819e294": {
          "model_module": "@jupyter-widgets/controls",
          "model_name": "HTMLModel",
          "model_module_version": "1.5.0",
          "state": {
            "_dom_classes": [],
            "_model_module": "@jupyter-widgets/controls",
            "_model_module_version": "1.5.0",
            "_model_name": "HTMLModel",
            "_view_count": null,
            "_view_module": "@jupyter-widgets/controls",
            "_view_module_version": "1.5.0",
            "_view_name": "HTMLView",
            "description": "",
            "description_tooltip": null,
            "layout": "IPY_MODEL_d936c455227c41c4a9b190454e72720f",
            "placeholder": "​",
            "style": "IPY_MODEL_487163963fad481a84bf4a4ef29ba9b0",
            "value": "100%"
          }
        },
        "2ac781f00df64a13a4ff50b61afd3e5f": {
          "model_module": "@jupyter-widgets/controls",
          "model_name": "FloatProgressModel",
          "model_module_version": "1.5.0",
          "state": {
            "_dom_classes": [],
            "_model_module": "@jupyter-widgets/controls",
            "_model_module_version": "1.5.0",
            "_model_name": "FloatProgressModel",
            "_view_count": null,
            "_view_module": "@jupyter-widgets/controls",
            "_view_module_version": "1.5.0",
            "_view_name": "ProgressView",
            "bar_style": "success",
            "description": "",
            "description_tooltip": null,
            "layout": "IPY_MODEL_ebeb5f8b5ce24ba196df8a7e6ab3e49b",
            "max": 90,
            "min": 0,
            "orientation": "horizontal",
            "style": "IPY_MODEL_4d0d286ab6674a0c80e689ce6d73297b",
            "value": 90
          }
        },
        "25649a75ee7d4c3b82ad91009d764a00": {
          "model_module": "@jupyter-widgets/controls",
          "model_name": "HTMLModel",
          "model_module_version": "1.5.0",
          "state": {
            "_dom_classes": [],
            "_model_module": "@jupyter-widgets/controls",
            "_model_module_version": "1.5.0",
            "_model_name": "HTMLModel",
            "_view_count": null,
            "_view_module": "@jupyter-widgets/controls",
            "_view_module_version": "1.5.0",
            "_view_name": "HTMLView",
            "description": "",
            "description_tooltip": null,
            "layout": "IPY_MODEL_b147cf865e514c319b5334aea18f6266",
            "placeholder": "​",
            "style": "IPY_MODEL_926b40329d28416a8d7a7564b1f099c2",
            "value": " 90/90 [00:01&lt;00:00, 70.76it/s]"
          }
        },
        "bea5f9a65a1147f88089ad1a4fd3c51f": {
          "model_module": "@jupyter-widgets/base",
          "model_name": "LayoutModel",
          "model_module_version": "1.2.0",
          "state": {
            "_model_module": "@jupyter-widgets/base",
            "_model_module_version": "1.2.0",
            "_model_name": "LayoutModel",
            "_view_count": null,
            "_view_module": "@jupyter-widgets/base",
            "_view_module_version": "1.2.0",
            "_view_name": "LayoutView",
            "align_content": null,
            "align_items": null,
            "align_self": null,
            "border": null,
            "bottom": null,
            "display": null,
            "flex": null,
            "flex_flow": null,
            "grid_area": null,
            "grid_auto_columns": null,
            "grid_auto_flow": null,
            "grid_auto_rows": null,
            "grid_column": null,
            "grid_gap": null,
            "grid_row": null,
            "grid_template_areas": null,
            "grid_template_columns": null,
            "grid_template_rows": null,
            "height": null,
            "justify_content": null,
            "justify_items": null,
            "left": null,
            "margin": null,
            "max_height": null,
            "max_width": null,
            "min_height": null,
            "min_width": null,
            "object_fit": null,
            "object_position": null,
            "order": null,
            "overflow": null,
            "overflow_x": null,
            "overflow_y": null,
            "padding": null,
            "right": null,
            "top": null,
            "visibility": null,
            "width": null
          }
        },
        "d936c455227c41c4a9b190454e72720f": {
          "model_module": "@jupyter-widgets/base",
          "model_name": "LayoutModel",
          "model_module_version": "1.2.0",
          "state": {
            "_model_module": "@jupyter-widgets/base",
            "_model_module_version": "1.2.0",
            "_model_name": "LayoutModel",
            "_view_count": null,
            "_view_module": "@jupyter-widgets/base",
            "_view_module_version": "1.2.0",
            "_view_name": "LayoutView",
            "align_content": null,
            "align_items": null,
            "align_self": null,
            "border": null,
            "bottom": null,
            "display": null,
            "flex": null,
            "flex_flow": null,
            "grid_area": null,
            "grid_auto_columns": null,
            "grid_auto_flow": null,
            "grid_auto_rows": null,
            "grid_column": null,
            "grid_gap": null,
            "grid_row": null,
            "grid_template_areas": null,
            "grid_template_columns": null,
            "grid_template_rows": null,
            "height": null,
            "justify_content": null,
            "justify_items": null,
            "left": null,
            "margin": null,
            "max_height": null,
            "max_width": null,
            "min_height": null,
            "min_width": null,
            "object_fit": null,
            "object_position": null,
            "order": null,
            "overflow": null,
            "overflow_x": null,
            "overflow_y": null,
            "padding": null,
            "right": null,
            "top": null,
            "visibility": null,
            "width": null
          }
        },
        "487163963fad481a84bf4a4ef29ba9b0": {
          "model_module": "@jupyter-widgets/controls",
          "model_name": "DescriptionStyleModel",
          "model_module_version": "1.5.0",
          "state": {
            "_model_module": "@jupyter-widgets/controls",
            "_model_module_version": "1.5.0",
            "_model_name": "DescriptionStyleModel",
            "_view_count": null,
            "_view_module": "@jupyter-widgets/base",
            "_view_module_version": "1.2.0",
            "_view_name": "StyleView",
            "description_width": ""
          }
        },
        "ebeb5f8b5ce24ba196df8a7e6ab3e49b": {
          "model_module": "@jupyter-widgets/base",
          "model_name": "LayoutModel",
          "model_module_version": "1.2.0",
          "state": {
            "_model_module": "@jupyter-widgets/base",
            "_model_module_version": "1.2.0",
            "_model_name": "LayoutModel",
            "_view_count": null,
            "_view_module": "@jupyter-widgets/base",
            "_view_module_version": "1.2.0",
            "_view_name": "LayoutView",
            "align_content": null,
            "align_items": null,
            "align_self": null,
            "border": null,
            "bottom": null,
            "display": null,
            "flex": null,
            "flex_flow": null,
            "grid_area": null,
            "grid_auto_columns": null,
            "grid_auto_flow": null,
            "grid_auto_rows": null,
            "grid_column": null,
            "grid_gap": null,
            "grid_row": null,
            "grid_template_areas": null,
            "grid_template_columns": null,
            "grid_template_rows": null,
            "height": null,
            "justify_content": null,
            "justify_items": null,
            "left": null,
            "margin": null,
            "max_height": null,
            "max_width": null,
            "min_height": null,
            "min_width": null,
            "object_fit": null,
            "object_position": null,
            "order": null,
            "overflow": null,
            "overflow_x": null,
            "overflow_y": null,
            "padding": null,
            "right": null,
            "top": null,
            "visibility": null,
            "width": null
          }
        },
        "4d0d286ab6674a0c80e689ce6d73297b": {
          "model_module": "@jupyter-widgets/controls",
          "model_name": "ProgressStyleModel",
          "model_module_version": "1.5.0",
          "state": {
            "_model_module": "@jupyter-widgets/controls",
            "_model_module_version": "1.5.0",
            "_model_name": "ProgressStyleModel",
            "_view_count": null,
            "_view_module": "@jupyter-widgets/base",
            "_view_module_version": "1.2.0",
            "_view_name": "StyleView",
            "bar_color": null,
            "description_width": ""
          }
        },
        "b147cf865e514c319b5334aea18f6266": {
          "model_module": "@jupyter-widgets/base",
          "model_name": "LayoutModel",
          "model_module_version": "1.2.0",
          "state": {
            "_model_module": "@jupyter-widgets/base",
            "_model_module_version": "1.2.0",
            "_model_name": "LayoutModel",
            "_view_count": null,
            "_view_module": "@jupyter-widgets/base",
            "_view_module_version": "1.2.0",
            "_view_name": "LayoutView",
            "align_content": null,
            "align_items": null,
            "align_self": null,
            "border": null,
            "bottom": null,
            "display": null,
            "flex": null,
            "flex_flow": null,
            "grid_area": null,
            "grid_auto_columns": null,
            "grid_auto_flow": null,
            "grid_auto_rows": null,
            "grid_column": null,
            "grid_gap": null,
            "grid_row": null,
            "grid_template_areas": null,
            "grid_template_columns": null,
            "grid_template_rows": null,
            "height": null,
            "justify_content": null,
            "justify_items": null,
            "left": null,
            "margin": null,
            "max_height": null,
            "max_width": null,
            "min_height": null,
            "min_width": null,
            "object_fit": null,
            "object_position": null,
            "order": null,
            "overflow": null,
            "overflow_x": null,
            "overflow_y": null,
            "padding": null,
            "right": null,
            "top": null,
            "visibility": null,
            "width": null
          }
        },
        "926b40329d28416a8d7a7564b1f099c2": {
          "model_module": "@jupyter-widgets/controls",
          "model_name": "DescriptionStyleModel",
          "model_module_version": "1.5.0",
          "state": {
            "_model_module": "@jupyter-widgets/controls",
            "_model_module_version": "1.5.0",
            "_model_name": "DescriptionStyleModel",
            "_view_count": null,
            "_view_module": "@jupyter-widgets/base",
            "_view_module_version": "1.2.0",
            "_view_name": "StyleView",
            "description_width": ""
          }
        }
      }
    }
  },
  "nbformat": 4,
  "nbformat_minor": 0
}